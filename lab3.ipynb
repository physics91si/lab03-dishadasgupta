{
 "cells": [
  {
   "cell_type": "markdown",
   "metadata": {},
   "source": [
    "# Physics 91SI: Lab 3\n",
    "\n",
    "Part 1\n",
    "------"
   ]
  },
  {
   "cell_type": "code",
   "execution_count": 18,
   "metadata": {},
   "outputs": [],
   "source": [
    "# Don't edit this function\n",
    "def load_sample():\n",
    "    \"\"\"Return the entire text of Hamlet in a string.\"\"\"\n",
    "    with open('hamlet.txt') as f:\n",
    "        sample = f.read()\n",
    "    return sample"
   ]
  },
  {
   "cell_type": "code",
   "execution_count": 26,
   "metadata": {},
   "outputs": [],
   "source": [
    "# Edit this function. \"pass\" tells Python to do nothing.\n",
    "def parse_sample(text, words_only, sort_list):\n",
    "    \n",
    "    Text = text.replace('-', ' ')\n",
    "    newText = text.replace('\\n', ' ')\n",
    "    \n",
    "    wordList = newText.split(' ')\n",
    "    \n",
    "    if words_only == True:\n",
    "        for x in range(0, len(wordList)):\n",
    "            wordList[x] = wordList[x].lower()\n",
    "            wordList[x] = wordList[x].strip('.,:;?!\\\"\\'&[]')       \n",
    "            \n",
    "    if sort_list == True:\n",
    "        wordList.sort()\n",
    "        \n",
    "    return wordList\n"
   ]
  },
  {
   "cell_type": "code",
   "execution_count": 28,
   "metadata": {},
   "outputs": [],
   "source": [
    "Hamlet = load_sample()\n",
    "\n",
    "HamletList = parse_sample(Hamlet, True, True)"
   ]
  },
  {
   "cell_type": "markdown",
   "metadata": {},
   "source": [
    "Part 2\n",
    "------"
   ]
  },
  {
   "cell_type": "code",
   "execution_count": 29,
   "metadata": {},
   "outputs": [],
   "source": [
    "def count_freq(lst):\n",
    "    freq_dict = {}\n",
    "    for x in lst:\n",
    "        if x in freq_dict:\n",
    "            freq_dict[x] = freq_dict[x] + 1\n",
    "        else:\n",
    "            freq_dict[x] = 1\n",
    "            \n",
    "    return freq_dict\n",
    "\n",
    "def mean(lst):    \n",
    "    freq = count_freq(lst)\n",
    "    vals = freq.values()\n",
    "    \n",
    "    sum = 0\n",
    "    for v in vals:\n",
    "        sum += v    \n",
    "    mean = sum/len(vals)\n",
    "    \n",
    "    return mean\n",
    "\n",
    "def stdev(lst):\n",
    "    sum = 0\n",
    "    meanVal = mean(lst)\n",
    "    freq = count_freq(lst)\n",
    "    vals = freq.values()\n",
    "    \n",
    "    for v in vals:\n",
    "        sum += v - meanVal\n",
    "        \n",
    "    stdev = ((sum ** 2)/(len(vals) - 1))**(1/2)\n",
    "    \n",
    "    return stdev\n",
    "\n",
    "def median(lst):\n",
    "    freq = count_freq(lst)\n",
    "    vals = sorted(freq.values())\n",
    "    median = None\n",
    "    \n",
    "    if len(vals)%2 == 0:\n",
    "        val1 = vals[len(vals)//2]\n",
    "        val2 = vals[(len(vals)//2) + 1]        \n",
    "        median = (val1 + val2)/2\n",
    "    else:\n",
    "        median = vals[(len(vals)//2) + 1]        \n",
    "    \n",
    "    return median\n"
   ]
  },
  {
   "cell_type": "markdown",
   "metadata": {},
   "source": [
    "Part 3\n",
    "------"
   ]
  },
  {
   "cell_type": "code",
   "execution_count": 9,
   "metadata": {},
   "outputs": [],
   "source": [
    "def print_stats(lst):    \n",
    "    print(\"Frequency of Each Word:\", count_freq(lst))\n",
    "    print(\"Mean:\", mean(lst))\n",
    "    print(\"Standard Deviation:\", stdev(lst))\n",
    "    print(\"Median:\", median(lst))"
   ]
  },
  {
   "cell_type": "code",
   "execution_count": 31,
   "metadata": {},
   "outputs": [],
   "source": [
    "# If you guys want to test it!\n",
    "#print_stats(HamletList)\n"
   ]
  }
 ],
 "metadata": {
  "kernelspec": {
   "display_name": "Python 3",
   "language": "python",
   "name": "python3"
  },
  "language_info": {
   "codemirror_mode": {
    "name": "ipython",
    "version": 3
   },
   "file_extension": ".py",
   "mimetype": "text/x-python",
   "name": "python",
   "nbconvert_exporter": "python",
   "pygments_lexer": "ipython3",
   "version": "3.6.4"
  }
 },
 "nbformat": 4,
 "nbformat_minor": 1
}
